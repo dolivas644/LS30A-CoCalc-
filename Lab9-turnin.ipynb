{
 "cells": [
  {
   "cell_type": "code",
   "execution_count": 1,
   "metadata": {
    "collapsed": false
   },
   "outputs": [
   ],
   "source": [
    "# Name:\n",
    "# I worked on this code with:\n",
    "\n",
    "# Please do all of your work for this week's lab in this worksheet. If\n",
    "# you wish to create other worksheets for scratch work, you can, but\n",
    "# this is the one that will be graded. You do not need to do anything\n",
    "# to turn in your lab. It will be collected by your TA at the beginning\n",
    "# of (or right before) next week’s lab.\n",
    "\n",
    "# Be sure to clearly label which question you are answering as you go and to\n",
    "# use enough comments that you and the grader can understand your code."
   ]
  },
  {
   "cell_type": "code",
   "execution_count": 2,
   "metadata": {
    "collapsed": false
   },
   "outputs": [
   ],
   "source": [
    "# Exercise 1\n",
    "def NPrime(r,K,A):\n",
    "    r=2\n",
    "    K=55\n",
    "    A=20\n",
    "    f(N)=r*N*(1-N/K)*(N/A-1)\n",
    "NPrime(2,55,20)"
   ]
  },
  {
   "cell_type": "code",
   "execution_count": 3,
   "metadata": {
    "collapsed": false
   },
   "outputs": [
   ],
   "source": [
    "#1 \n",
    "r=2\n",
    "K=55\n",
    "A=20\n",
    "f(N)=r*N*(1-N/K)*(N/A-1)"
   ]
  },
  {
   "cell_type": "code",
   "execution_count": 4,
   "metadata": {
    "collapsed": false,
    "scrolled": true
   },
   "outputs": [
    {
     "data": {
      "text/plain": [
       "[N == 0, N == 20, N == 55]"
      ]
     },
     "execution_count": 4,
     "metadata": {
     },
     "output_type": "execute_result"
    }
   ],
   "source": [
    "# Exercise 2\n",
    "l=[2,55,20]\n",
    "solve(f(N)==0,N)"
   ]
  },
  {
   "cell_type": "code",
   "execution_count": 5,
   "metadata": {
    "collapsed": false
   },
   "outputs": [
   ],
   "source": [
    "# Exercise 3\n",
    "def NPrime(r,K,A):\n",
    "    f(N)=r*N*(1-N/K)*(N/A-1)\n",
    "NPrime(5,150,200)"
   ]
  },
  {
   "cell_type": "code",
   "execution_count": 6,
   "metadata": {
    "collapsed": false
   },
   "outputs": [
   ],
   "source": [
    "# Exercise 4\n",
    "#if positive1 and negative2: NPrime(NA) > 0 and NPrime(NB)<0\n",
    "#print unstable\n",
    "#elif negative1 and positive2:  NPrime(NA) > 0 and NPrime(NB)<0\n",
    "#print stable\n",
    "#else:\n",
    "# eq is semi stable"
   ]
  },
  {
   "cell_type": "code",
   "execution_count": 7,
   "metadata": {
    "collapsed": false
   },
   "outputs": [
   ],
   "source": [
    "# Exercise 5\n",
    "def equilibria(NPrime,NA,NB):\n",
    "    if NPrime(NA) > 0 and NPrime(NB)<0:\n",
    "        print \"eq is unstable\"\n",
    "    elif NPrime(NA) > 0 and NPrime(NB)<0:\n",
    "        print \"eq is stable\"\n",
    "    else:\n",
    "        print \"eq is semi-stable\""
   ]
  },
  {
   "cell_type": "code",
   "execution_count": 8,
   "metadata": {
    "collapsed": false
   },
   "outputs": [
    {
     "data": {
      "text/plain": [
       "-r*((N/A - 1)/k + N/(A*k))"
      ]
     },
     "execution_count": 8,
     "metadata": {
     },
     "output_type": "execute_result"
    }
   ],
   "source": [
    "# Exercise 6\n",
    "var(\"r\",\"N\",\"k\",\"A\")\n",
    "diff(r*N(1-(N/k)*((N/A)-1)),N)"
   ]
  },
  {
   "cell_type": "code",
   "execution_count": 9,
   "metadata": {
    "collapsed": false
   },
   "outputs": [
   ],
   "source": [
    "#Exercise 7\n",
    "# def equilibria\n",
    "# define variables\n",
    "#Diff of the function and name inout variable\n",
    "#if diff of function is 0:\n",
    "# print \"Test failed\""
   ]
  },
  {
   "cell_type": "code",
   "execution_count": 10,
   "metadata": {
    "collapsed": false
   },
   "outputs": [
   ],
   "source": [
    "#Exercise 8\n",
    "# def equilibria\n",
    "# Use an open list command to create a list\n",
    "# define variables\n",
    "# Use srange to have a range and step size\n",
    "#Diff of the function and name inout variable\n",
    "#  Use for loop command to test several points\n",
    "#if diff of function is 0:\n",
    "# print \"Test failed\""
   ]
  },
  {
   "cell_type": "code",
   "execution_count": 12,
   "metadata": {
    "collapsed": false
   },
   "outputs": [
   ],
   "source": [
    "#Exercise 9\n",
    "def equilibria(NPrime,NA,NB):\n",
    "    f=r*N*(1-N/K)*(N/A-1)\n",
    "    for n in srange():\n",
    "        if NPrime(NA) > 0 and NPrime(NB)<0:\n",
    "            print \"eq is unstable\"\n",
    "        elif NPrime(NA) > 0 and NPrime(NB)<0:\n",
    "            print \"eq is stable\"\n",
    "        else:\n",
    "            print \"eq is semi-stable\"\n",
    "            return f"
   ]
  }
 ],
 "metadata": {
  "kernelspec": {
   "display_name": "SageMath (system-wide)",
   "language": "sagemath",
   "metadata": {
    "cocalc": {
     "description": "Open-source mathematical software system",
     "priority": -1,
     "url": "https://www.sagemath.org/"
    }
   },
   "name": "sagemath"
  },
  "language_info": {
   "codemirror_mode": {
    "name": "ipython",
    "version": 2
   },
   "file_extension": ".py",
   "mimetype": "text/x-python",
   "name": "python",
   "nbconvert_exporter": "python",
   "pygments_lexer": "ipython2",
   "version": "2.7.15"
  }
 },
 "nbformat": 4,
 "nbformat_minor": 4
}