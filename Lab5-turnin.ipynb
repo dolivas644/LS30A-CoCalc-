{
 "cells": [
  {
   "cell_type": "code",
   "execution_count": 0,
   "metadata": {
    "collapsed": false
   },
   "outputs": [
   ],
   "source": [
    "# Name:\n",
    "# I worked on this code with:\n",
    "\n",
    "# Please do all of your work for this week's lab in this worksheet. If\n",
    "# you wish to create other worksheets for scratch work, you can, but\n",
    "# this is the one that will be graded. You do not need to do anything\n",
    "# to turn in your lab. It will be collected by your TA at the beginning\n",
    "# of (or right before) next week’s lab.\n",
    "\n",
    "# Be sure to clearly label which question you are answering as you go and to\n",
    "# use enough comments that you and the grader can understand your code."
   ]
  },
  {
   "cell_type": "code",
   "execution_count": 7,
   "metadata": {
    "collapsed": false
   },
   "outputs": [
    {
     "name": "stdout",
     "output_type": "stream",
     "text": [
      "(0, 1216)\n"
     ]
    }
   ],
   "source": [
    "# Exercise 1\n",
    "g(x)=19*x^3\n",
    "r=g(0),g(4)\n",
    "print(r)"
   ]
  },
  {
   "cell_type": "code",
   "execution_count": 8,
   "metadata": {
    "collapsed": false
   },
   "outputs": [
    {
     "name": "stdout",
     "output_type": "stream",
     "text": [
      "(112, 217, 252)\n"
     ]
    }
   ],
   "source": [
    "# Exercise 2\n",
    "g(x)=35*x+7\n",
    "r=g(3),g(6),g(7)\n",
    "print(r)"
   ]
  },
  {
   "cell_type": "code",
   "execution_count": 11,
   "metadata": {
    "collapsed": false
   },
   "outputs": [
    {
     "name": "stdout",
     "output_type": "stream",
     "text": [
      "112\n",
      "217\n",
      "252\n"
     ]
    }
   ],
   "source": [
    "# Exercise 3\n",
    "def dog(x):\n",
    "    result=35*x+7\n",
    "    return result\n",
    "print(dog(3))\n",
    "print(dog(6))\n",
    "print(dog(7))"
   ]
  },
  {
   "cell_type": "code",
   "execution_count": 12,
   "metadata": {
    "collapsed": false
   },
   "outputs": [
    {
     "data": {
      "text/plain": [
       "[2,\n",
       " 3,\n",
       " 4,\n",
       " 5,\n",
       " 6,\n",
       " 7,\n",
       " 8,\n",
       " 9,\n",
       " 10,\n",
       " 11,\n",
       " 12,\n",
       " 13,\n",
       " 14,\n",
       " 15,\n",
       " 16,\n",
       " 17,\n",
       " 18,\n",
       " 19,\n",
       " 20,\n",
       " 21,\n",
       " 22,\n",
       " 23,\n",
       " 24,\n",
       " 25,\n",
       " 26,\n",
       " 27,\n",
       " 28,\n",
       " 29,\n",
       " 30,\n",
       " 31,\n",
       " 32,\n",
       " 33,\n",
       " 34,\n",
       " 35,\n",
       " 36,\n",
       " 37,\n",
       " 38,\n",
       " 39,\n",
       " 40,\n",
       " 41,\n",
       " 42,\n",
       " 43,\n",
       " 44,\n",
       " 45,\n",
       " 46,\n",
       " 47,\n",
       " 48,\n",
       " 49,\n",
       " 50,\n",
       " 51,\n",
       " 52,\n",
       " 53,\n",
       " 54,\n",
       " 55,\n",
       " 56,\n",
       " 57,\n",
       " 58,\n",
       " 59,\n",
       " 60,\n",
       " 61,\n",
       " 62,\n",
       " 63,\n",
       " 64,\n",
       " 65,\n",
       " 66,\n",
       " 67,\n",
       " 68,\n",
       " 69,\n",
       " 70,\n",
       " 71,\n",
       " 72,\n",
       " 73,\n",
       " 74,\n",
       " 75,\n",
       " 76,\n",
       " 77,\n",
       " 78,\n",
       " 79,\n",
       " 80,\n",
       " 81,\n",
       " 82,\n",
       " 83,\n",
       " 84,\n",
       " 85,\n",
       " 86,\n",
       " 87,\n",
       " 88,\n",
       " 89,\n",
       " 90,\n",
       " 91,\n",
       " 92,\n",
       " 93,\n",
       " 94,\n",
       " 95,\n",
       " 96,\n",
       " 97,\n",
       " 98,\n",
       " 99]"
      ]
     },
     "execution_count": 12,
     "metadata": {
     },
     "output_type": "execute_result"
    }
   ],
   "source": [
    "# Exercise 4\n",
    "srange(2,100)"
   ]
  },
  {
   "cell_type": "code",
   "execution_count": 13,
   "metadata": {
    "collapsed": false
   },
   "outputs": [
    {
     "data": {
      "text/plain": [
       "[0,\n",
       " 2,\n",
       " 4,\n",
       " 6,\n",
       " 8,\n",
       " 10,\n",
       " 12,\n",
       " 14,\n",
       " 16,\n",
       " 18,\n",
       " 20,\n",
       " 22,\n",
       " 24,\n",
       " 26,\n",
       " 28,\n",
       " 30,\n",
       " 32,\n",
       " 34,\n",
       " 36,\n",
       " 38,\n",
       " 40,\n",
       " 42,\n",
       " 44,\n",
       " 46,\n",
       " 48,\n",
       " 50]"
      ]
     },
     "execution_count": 13,
     "metadata": {
     },
     "output_type": "execute_result"
    }
   ],
   "source": [
    "# Exercise 5\n",
    "srange(0,51,2)"
   ]
  },
  {
   "cell_type": "code",
   "execution_count": 16,
   "metadata": {
    "collapsed": false
   },
   "outputs": [
    {
     "name": "stdout",
     "output_type": "stream",
     "text": [
      "0\n",
      "1\n",
      "2\n",
      "3\n",
      "4\n",
      "5\n",
      "6\n",
      "7\n",
      "8\n",
      "9\n"
     ]
    }
   ],
   "source": [
    "# Exercise 6\n",
    "nums=srange(0,10)\n",
    "for n in nums:\n",
    "    n*1\n",
    "    print(n)"
   ]
  },
  {
   "cell_type": "code",
   "execution_count": 23,
   "metadata": {
    "collapsed": false
   },
   "outputs": [
    {
     "name": "stdout",
     "output_type": "stream",
     "text": [
      "10.0000000000000\n",
      "20.0000000000000\n",
      "30.0000000000000\n",
      "40.0000000000000\n"
     ]
    }
   ],
   "source": [
    "# Exercise 7\n",
    "nums=srange(10.,41.,10)\n",
    "for n in nums:\n",
    "    sqrt(n)\n",
    "    print(n)"
   ]
  },
  {
   "cell_type": "code",
   "execution_count": 0,
   "metadata": {
    "collapsed": false
   },
   "outputs": [
   ],
   "source": [
    "# Exercise 8\n",
    "#mult3.append(3*n) adds 3*n to a list of mult3"
   ]
  },
  {
   "cell_type": "code",
   "execution_count": 25,
   "metadata": {
    "collapsed": false
   },
   "outputs": [
    {
     "data": {
      "text/plain": [
       "[4, 8, 12, 16]"
      ]
     },
     "execution_count": 25,
     "metadata": {
     },
     "output_type": "execute_result"
    }
   ],
   "source": [
    "# Exercise 9\n",
    "mult3 = []\n",
    "nums = srange(1,5)\n",
    "for n in nums:\n",
    "    mult3.append(4*n)\n",
    "mult3\n",
    "\n"
   ]
  },
  {
   "cell_type": "code",
   "execution_count": 28,
   "metadata": {
    "collapsed": false
   },
   "outputs": [
    {
     "data": {
      "text/plain": [
       "[42, 77, 112, 147, 182]"
      ]
     },
     "execution_count": 28,
     "metadata": {
     },
     "output_type": "execute_result"
    }
   ],
   "source": [
    "# Exercise 10\n",
    "gg=[]\n",
    "nums=srange(1,6)\n",
    "for n in nums:\n",
    "    gg.append(35*n+7)\n",
    "gg\n"
   ]
  },
  {
   "cell_type": "code",
   "execution_count": 30,
   "metadata": {
    "collapsed": false
   },
   "outputs": [
    {
     "data": {
      "image/png": "[encoded data removed]",
      "text/plain": [
       "Graphics object consisting of 1 graphics primitive"
      ]
     },
     "execution_count": 30,
     "metadata": {
     },
     "output_type": "execute_result"
    }
   ],
   "source": [
    "# Exercise 11\n",
    "listx= []\n",
    "for n in [2,3,4,5,6]:\n",
    "    listx.append(35*n+7)\n",
    "list_plot(listx)"
   ]
  },
  {
   "cell_type": "code",
   "execution_count": 1,
   "metadata": {
    "collapsed": false
   },
   "outputs": [
    {
     "data": {
      "text/plain": [
       "3072"
      ]
     },
     "execution_count": 1,
     "metadata": {
     },
     "output_type": "execute_result"
    }
   ],
   "source": [
    "# Exercise 12\n",
    "f(x) = 2*x\n",
    "count = srange(0,10)\n",
    "val=3\n",
    "for i in count:\n",
    "    a = f(val)\n",
    "    val = a\n",
    "val\n",
    "#The result is 3072"
   ]
  },
  {
   "cell_type": "code",
   "execution_count": 0,
   "metadata": {
    "collapsed": false
   },
   "outputs": [
   ],
   "source": [
    "# Exercise 13\n",
    "#Val=a shows that after every process the value of val changes to the previous f(val) increasing/decreasing its value each time. Showing a replacement value of val by a/f(val)"
   ]
  },
  {
   "cell_type": "code",
   "execution_count": 42,
   "metadata": {
    "collapsed": false
   },
   "outputs": [
    {
     "data": {
      "text/plain": [
       "3145728"
      ]
     },
     "execution_count": 42,
     "metadata": {
     },
     "output_type": "execute_result"
    }
   ],
   "source": [
    "# Exercise 14\n",
    "f(x) = 2*x\n",
    "count = srange(0,20)\n",
    "val=3\n",
    "for i in count:\n",
    "    a = f(val)\n",
    "    val = a\n",
    "val"
   ]
  },
  {
   "cell_type": "code",
   "execution_count": 40,
   "metadata": {
    "collapsed": false
   },
   "outputs": [
    {
     "data": {
      "text/plain": [
       "5242880"
      ]
     },
     "execution_count": 40,
     "metadata": {
     },
     "output_type": "execute_result"
    }
   ],
   "source": [
    "# Exercise 15\n",
    "f(x) = 2*x\n",
    "count = srange(0,20)\n",
    "val=5\n",
    "for i in count:\n",
    "    a = f(val)\n",
    "    val = a\n",
    "val"
   ]
  },
  {
   "cell_type": "code",
   "execution_count": 7,
   "metadata": {
    "collapsed": false
   },
   "outputs": [
    {
     "data": {
      "text/plain": [
       "486"
      ]
     },
     "execution_count": 7,
     "metadata": {
     },
     "output_type": "execute_result"
    }
   ],
   "source": [
    "# Exercise 16\n",
    "g(x) = 3*x\n",
    "count = srange(0,5)\n",
    "val=2\n",
    "for i in count:\n",
    "    a = g(val)\n",
    "    val=a\n",
    "val"
   ]
  },
  {
   "cell_type": "code",
   "execution_count": 5,
   "metadata": {
    "collapsed": false
   },
   "outputs": [
    {
     "data": {
      "text/plain": [
       "3072"
      ]
     },
     "execution_count": 5,
     "metadata": {
     },
     "output_type": "execute_result"
    }
   ],
   "source": [
    "# Exercise 17\n",
    "g(x) = 2*x\n",
    "count = srange(0,10)\n",
    "val=3\n",
    "for i in count:\n",
    "    val = g(val)\n",
    "val"
   ]
  },
  {
   "cell_type": "code",
   "execution_count": 0,
   "metadata": {
    "collapsed": false
   },
   "outputs": [
   ],
   "source": [
    "# Exercise 18\n",
    "A difference between example 3 and 4 i that example 3 shows the final result while example 4 shows everything in between the rsults while also plotting them.Also, example 3 does not store the list of results. "
   ]
  },
  {
   "cell_type": "code",
   "execution_count": 8,
   "metadata": {
    "collapsed": false
   },
   "outputs": [
    {
     "name": "stdout",
     "output_type": "stream",
     "text": [
      "9\n",
      "27\n",
      "81\n",
      "243\n",
      "729\n"
     ]
    }
   ],
   "source": [
    "# Example 19\n",
    "g(x)=3*x\n",
    "count=srange(0,5)\n",
    "vals=[3]\n",
    "for i in count:\n",
    "    a=vals[i]\n",
    "    b=g(a)\n",
    "    vals.append(b)\n",
    "    print(b)"
   ]
  },
  {
   "cell_type": "code",
   "execution_count": 9,
   "metadata": {
    "collapsed": false
   },
   "outputs": [
    {
     "data": {
      "image/png": "[encoded data removed]",
      "text/plain": [
       "Graphics object consisting of 1 graphics primitive"
      ]
     },
     "execution_count": 9,
     "metadata": {
     },
     "output_type": "execute_result"
    }
   ],
   "source": [
    "# Exercise 20\n",
    "p(x)=2.5*cos(x)\n",
    "count=srange(0,10)\n",
    "vals=[0.5]\n",
    "for i in count:\n",
    "    a=vals[i]\n",
    "    b=p(a)\n",
    "    vals.append(b)\n",
    "list_plot(vals)"
   ]
  },
  {
   "cell_type": "code",
   "execution_count": 10,
   "metadata": {
    "collapsed": false
   },
   "outputs": [
    {
     "data": {
      "image/png": "[encoded data removed]",
      "text/plain": [
       "Graphics object consisting of 1 graphics primitive"
      ]
     },
     "execution_count": 10,
     "metadata": {
     },
     "output_type": "execute_result"
    }
   ],
   "source": [
    "# Exercise 21\n",
    "f(x)=2*x #defines function f(x)\n",
    "count=srange(0,10) # lists values of numbers that we want to iterate\n",
    "vals=[3] # initial value\n",
    "for i in count: #loop start\n",
    "    b=f((vals[i])) # Uses last result for each function\n",
    "    vals.append(b)\n",
    "list_plot(vals)# plots graph"
   ]
  },
  {
   "cell_type": "code",
   "execution_count": 11,
   "metadata": {
    "collapsed": false
   },
   "outputs": [
    {
     "data": {
      "image/png": "[encoded data removed]",
      "text/plain": [
       "Graphics object consisting of 1 graphics primitive"
      ]
     },
     "execution_count": 11,
     "metadata": {
     },
     "output_type": "execute_result"
    }
   ],
   "source": [
    "# Exercise 22\n",
    "f(x)=2*x\n",
    "count=srange(0,10)\n",
    "vals=[3]\n",
    "for i in count:\n",
    "    vals.append((f((vals[i]))))\n",
    "list_plot(vals)"
   ]
  },
  {
   "cell_type": "code",
   "execution_count": 17,
   "metadata": {
    "collapsed": false
   },
   "outputs": [
    {
     "data": {
      "text/plain": [
       "[3, 6, 12, 24, 48, 96, 192, 384, 768, 1536, 3072]"
      ]
     },
     "execution_count": 17,
     "metadata": {
     },
     "output_type": "execute_result"
    }
   ],
   "source": [
    "# Exercise 23\n",
    "def iterate():\n",
    "    f(x)=2*x\n",
    "    count=srange(0,10)\n",
    "    vals=[3]\n",
    "    for i in count:\n",
    "        a=vals[i]\n",
    "        b=f(a)\n",
    "        vals.append(b)\n",
    "    return(vals)\n",
    "iterate()"
   ]
  },
  {
   "cell_type": "code",
   "execution_count": 19,
   "metadata": {
    "collapsed": false
   },
   "outputs": [
    {
     "data": {
      "text/plain": [
       "[3, 6, 12, 24, 48, 96, 192, 384, 768, 1536, 3072]"
      ]
     },
     "execution_count": 19,
     "metadata": {
     },
     "output_type": "execute_result"
    }
   ],
   "source": [
    "# Exercise 24\n",
    "def iterate(z):\n",
    "    f(x)=2*x\n",
    "    count=srange(0,z)\n",
    "    vals=[3]\n",
    "    for i in count:\n",
    "        a=vals[i]\n",
    "        b=f(a)\n",
    "        vals.append(b)\n",
    "    return(vals)\n",
    "iterate(10)"
   ]
  },
  {
   "cell_type": "code",
   "execution_count": 20,
   "metadata": {
    "collapsed": false
   },
   "outputs": [
    {
     "data": {
      "text/plain": [
       "[3, 6, 12, 24, 48, 96, 192, 384, 768, 1536, 3072]"
      ]
     },
     "execution_count": 20,
     "metadata": {
     },
     "output_type": "execute_result"
    }
   ],
   "source": [
    "# Exercise 25\n",
    "def iterate(v,z):\n",
    "    f(x)=2*x\n",
    "    count=srange(0,z)\n",
    "    vals=[v]\n",
    "    for i in count:\n",
    "        a=vals[i]\n",
    "        b=f(a)\n",
    "        vals.append(b)\n",
    "    return(vals)\n",
    "iterate(3,10)"
   ]
  },
  {
   "cell_type": "code",
   "execution_count": 21,
   "metadata": {
    "collapsed": false
   },
   "outputs": [
    {
     "data": {
      "text/plain": [
       "[3, 6, 12, 24, 48, 96, 192, 384, 768, 1536, 3072]"
      ]
     },
     "execution_count": 21,
     "metadata": {
     },
     "output_type": "execute_result"
    }
   ],
   "source": [
    "# Exercise 26\n",
    "def iterate(f,v,z):\n",
    "    count=srange(0,z)\n",
    "    vals=[v]\n",
    "    for i in count:\n",
    "        a=vals[i]\n",
    "        b=f(a)\n",
    "        vals.append(b)\n",
    "    return(vals)\n",
    "f(x)=2*x\n",
    "iterate(f,3,10)\n"
   ]
  },
  {
   "cell_type": "code",
   "execution_count": 0,
   "metadata": {
    "collapsed": false
   },
   "outputs": [
   ],
   "source": [
   ]
  }
 ],
 "metadata": {
  "kernelspec": {
   "display_name": "SageMath (system-wide)",
   "language": "sagemath",
   "metadata": {
    "cocalc": {
     "description": "Open-source mathematical software system",
     "priority": -1,
     "url": "https://www.sagemath.org/"
    }
   },
   "name": "sagemath"
  },
  "language_info": {
   "codemirror_mode": {
    "name": "ipython",
    "version": 2
   },
   "file_extension": ".py",
   "mimetype": "text/x-python",
   "name": "python",
   "nbconvert_exporter": "python",
   "pygments_lexer": "ipython2",
   "version": "2.7.15"
  }
 },
 "nbformat": 4,
 "nbformat_minor": 4
}