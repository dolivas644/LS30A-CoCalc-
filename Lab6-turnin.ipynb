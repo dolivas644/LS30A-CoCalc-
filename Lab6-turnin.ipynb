{
 "cells": [
  {
   "cell_type": "code",
   "execution_count": 1,
   "metadata": {
    "collapsed": false
   },
   "outputs": [
   ],
   "source": [
    "# Name:Diana Olivas\n",
    "# I worked on this code with:\n",
    "\n",
    "# Please do all of your work for this week's lab in this worksheet. If\n",
    "# you wish to create other worksheets for scratch work, you can, but\n",
    "# this is the one that will be graded. You do not need to do anything\n",
    "# to turn in your lab. It will be collected by your TA at the beginning\n",
    "# of (or right before) next week’s lab.\n",
    "\n",
    "# Be sure to clearly label which question you are answering as you go and to\n",
    "# use enough comments that you and the grader can understand your code."
   ]
  },
  {
   "cell_type": "code",
   "execution_count": 2,
   "metadata": {
    "collapsed": false
   },
   "outputs": [
   ],
   "source": [
    "# Exercise 1\n",
    "#Name function with the needed state variables (S0,T0,delta_t)\n",
    "#Define your constants\n",
    "# Specify initial start\n",
    "#Create a list of numbers defining how many times to iterate\n",
    "# (for i in count) create for loop\n",
    "# Specify Xold for your state variables S and T\n",
    "#Determine S' and T'(calc. change vector)\n",
    "#Get xnew\n",
    "#append updated state variavles for xnew in S and T to the list created\n",
    "#Use list_plot to plot time series \n",
    "# Use return and specify variables you want to input\n"
   ]
  },
  {
   "cell_type": "code",
   "execution_count": 3,
   "metadata": {
    "collapsed": false
   },
   "outputs": [
    {
     "ename": "SyntaxError",
     "evalue": "invalid syntax (<ipython-input-3-ee1a63ca5331>, line 4)",
     "output_type": "error",
     "traceback": [
      "\u001b[0;36m  File \u001b[0;32m\"<ipython-input-3-ee1a63ca5331>\"\u001b[0;36m, line \u001b[0;32m4\u001b[0m\n\u001b[0;31m    returna result\u001b[0m\n\u001b[0m                 ^\u001b[0m\n\u001b[0;31mSyntaxError\u001b[0m\u001b[0;31m:\u001b[0m invalid syntax\n"
     ]
    }
   ],
   "source": [
    "# Exercise 2\n",
    "def Nprime(N):\n",
    "    result=0.2*N*(1-(N/100))\n",
    "    returna result\n",
    "10+0.1*(Nprime(10))"
   ]
  },
  {
   "cell_type": "code",
   "execution_count": 4,
   "metadata": {
    "collapsed": false
   },
   "outputs": [
    {
     "ename": "NameError",
     "evalue": "name 'Nprime' is not defined",
     "output_type": "error",
     "traceback": [
      "\u001b[0;31m---------------------------------------------------------------------------\u001b[0m",
      "\u001b[0;31mNameError\u001b[0m                                 Traceback (most recent call last)",
      "\u001b[0;32m<ipython-input-4-2f9481e16e14>\u001b[0m in \u001b[0;36m<module>\u001b[0;34m()\u001b[0m\n\u001b[1;32m      3\u001b[0m \u001b[0mter\u001b[0m\u001b[0;34m=\u001b[0m\u001b[0mInteger\u001b[0m\u001b[0;34m(\u001b[0m\u001b[0;36m1000\u001b[0m\u001b[0;34m)\u001b[0m\u001b[0;34m\u001b[0m\u001b[0m\n\u001b[1;32m      4\u001b[0m \u001b[0;32mfor\u001b[0m \u001b[0ma\u001b[0m \u001b[0;32min\u001b[0m \u001b[0msrange\u001b[0m\u001b[0;34m(\u001b[0m\u001b[0mInteger\u001b[0m\u001b[0;34m(\u001b[0m\u001b[0;36m0\u001b[0m\u001b[0;34m)\u001b[0m\u001b[0;34m,\u001b[0m\u001b[0mter\u001b[0m\u001b[0;34m)\u001b[0m\u001b[0;34m:\u001b[0m\u001b[0;34m\u001b[0m\u001b[0m\n\u001b[0;32m----> 5\u001b[0;31m     \u001b[0md\u001b[0m\u001b[0;34m.\u001b[0m\u001b[0mappend\u001b[0m\u001b[0;34m(\u001b[0m\u001b[0md\u001b[0m\u001b[0;34m[\u001b[0m\u001b[0ma\u001b[0m\u001b[0;34m]\u001b[0m\u001b[0;34m+\u001b[0m\u001b[0mRealNumber\u001b[0m\u001b[0;34m(\u001b[0m\u001b[0;34m'0.1'\u001b[0m\u001b[0;34m)\u001b[0m\u001b[0;34m*\u001b[0m\u001b[0;34m(\u001b[0m\u001b[0mNprime\u001b[0m\u001b[0;34m(\u001b[0m\u001b[0md\u001b[0m\u001b[0;34m[\u001b[0m\u001b[0ma\u001b[0m\u001b[0;34m]\u001b[0m\u001b[0;34m)\u001b[0m\u001b[0;34m)\u001b[0m\u001b[0;34m)\u001b[0m\u001b[0;34m\u001b[0m\u001b[0m\n\u001b[0m",
      "\u001b[0;31mNameError\u001b[0m: name 'Nprime' is not defined"
     ]
    }
   ],
   "source": [
    "#excercise 2 \n",
    "def Eulermethod():\n",
    "    f(x)=0.2*x*(1-(x/100))\n",
    "    initial=10\n",
    "    b=initial \n",
    "    h=0.1\n",
    "    num=[]\n",
    "    count=srange(0,10001, .1)\n",
    "    for n in count: \n",
    "        a=b+h-0.1\n",
    "        c=b+f(a)*h\n",
    "        b=c\n",
    "        num.append(c)\n",
    "    return c\n",
    "Eulermethod()\n",
    "#excercise 2(step 2)\n",
    "#since the step size 0.1 you will need 1000 iterations to get to t=1000."
   ]
  },
  {
   "cell_type": "code",
   "execution_count": 5,
   "metadata": {
    "collapsed": false
   },
   "outputs": [
    {
     "data": {
      "text/plain": [
       "100"
      ]
     },
     "execution_count": 5,
     "metadata": {
     },
     "output_type": "execute_result"
    }
   ],
   "source": [
    "# Exercise 3\n",
    "def euler():\n",
    "    f(x)=.2*x*(1-(x/100))\n",
    "    initial=100\n",
    "    b=initial\n",
    "    h=.1\n",
    "    val=[]\n",
    "    count=srange(0,10001,.1)\n",
    "    for i in count:\n",
    "        a=b+h-.1\n",
    "        c=b+f(a)*h\n",
    "        b=c\n",
    "        val.append(c)\n",
    "    return c\n",
    "euler()"
   ]
  },
  {
   "cell_type": "code",
   "execution_count": 6,
   "metadata": {
    "collapsed": false,
    "scrolled": true
   },
   "outputs": [
    {
     "data": {
      "text/plain": [
       "-infinity"
      ]
     },
     "execution_count": 6,
     "metadata": {
     },
     "output_type": "execute_result"
    }
   ],
   "source": [
    "# Exercise 3\n",
    "def euler():\n",
    "    f(x)=.2*x*(1-(x/100))\n",
    "    initial=10000\n",
    "    b=initial\n",
    "    h=.1\n",
    "    val=[]\n",
    "    count=srange(0,10001,.1)\n",
    "    for i in count:\n",
    "        a=b+h-.1\n",
    "        c=b+f(a)*h\n",
    "        b=c\n",
    "        val.append(c)\n",
    "    return c\n",
    "euler()"
   ]
  },
  {
   "cell_type": "code",
   "execution_count": 7,
   "metadata": {
    "collapsed": false
   },
   "outputs": [
    {
     "data": {
      "text/plain": [
       "100.000000000000"
      ]
     },
     "execution_count": 7,
     "metadata": {
     },
     "output_type": "execute_result"
    }
   ],
   "source": [
    "# Exercise 3\n",
    "def euler():\n",
    "    f(x)=.2*x*(1-(x/100))\n",
    "    initial=800\n",
    "    b=initial\n",
    "    h=.1\n",
    "    val=[]\n",
    "    count=srange(0,10001,.1)\n",
    "    for i in count:\n",
    "        a=b+h-.1\n",
    "        c=b+f(a)*h\n",
    "        b=c\n",
    "        val.append(c)\n",
    "    return c\n",
    "euler()"
   ]
  },
  {
   "cell_type": "code",
   "execution_count": 8,
   "metadata": {
    "collapsed": false
   },
   "outputs": [
   ],
   "source": [
    "# When the value of N is greater than carrying capacity it will give a result of -infinity. Showing how it is not possible leading to a decline."
   ]
  },
  {
   "cell_type": "code",
   "execution_count": 9,
   "metadata": {
    "collapsed": false
   },
   "outputs": [
    {
     "data": {
      "image/png": "[encoded data removed]",
      "text/plain": [
       "Graphics object consisting of 1 graphics primitive"
      ]
     },
     "execution_count": 9,
     "metadata": {
     },
     "output_type": "execute_result"
    }
   ],
   "source": [
    "# Exercise 4\n",
    "alist=[]\n",
    "blist=[]\n",
    "def nprime():\n",
    "    f(x)=.2*x*(1-(x/100))\n",
    "    initial=10\n",
    "    b=initial\n",
    "    h=.1\n",
    "    val=[]\n",
    "    count=srange(0,101,.1)\n",
    "    for i in count:\n",
    "        a=b\n",
    "        c=b+f(a)*h\n",
    "        b=c\n",
    "        blist.append(h*i)\n",
    "        alist.append(c)\n",
    "    return c\n",
    "nprime()\n",
    "list_plot(zip(blist,alist))"
   ]
  },
  {
   "cell_type": "code",
   "execution_count": 10,
   "metadata": {
    "collapsed": false,
    "scrolled": true
   },
   "outputs": [
    {
     "name": "stdout",
     "output_type": "stream",
     "text": [
      "[10]\n",
      "[10.1800000000000]\n",
      "[10.3628735200000]\n",
      "[10.5486531608817]\n",
      "[10.7373714073976]\n",
      "[10.9290606065975]\n",
      "[11.1237529455809]\n",
      "[11.3214804285737]\n",
      "[11.5222748533262]\n",
      "[11.7261677868336]\n",
      "[11.9331905403773]\n",
      "[12.1433741438903]\n",
      "[12.3567493196484]\n",
      "[12.5733464552916]\n",
      "[12.7931955761805]\n",
      "[13.0163263170940]\n",
      "[13.2427678932773]\n",
      "[13.4725490708478]\n",
      "[13.7056981365714]\n",
      "[13.9422428670207]\n",
      "[14.1822104971285]\n",
      "[14.4256276881541]\n",
      "[14.6725204950778]\n",
      "[14.9229143334436]\n",
      "[15.1768339456718]\n",
      "[15.4343033668624]\n",
      "[15.6953458901155]\n",
      "[15.9599840313958]\n",
      "[16.2282394939672]\n",
      "[16.5001331324319]\n",
      "[16.7756849164029]\n",
      "[17.0549138938481]\n",
      "[17.3378381541397]\n",
      "[17.6244747908507]\n",
      "[17.9148398643370]\n",
      "[18.2089483641508]\n",
      "[18.5068141713282]\n",
      "[18.8084500206003]\n",
      "[19.1138674625768]\n",
      "[19.4230768259530]\n",
      "[19.7360871797947]\n",
      "[20.0529062959569]\n",
      "[20.3735406116931]\n",
      "[20.6979951925157]\n",
      "[21.0262736953681]\n",
      "[21.3583783321730]\n",
      "[21.6943098338204]\n",
      "[22.0340674146637]\n",
      "[22.3776487375901]\n",
      "[22.7250498797374]\n",
      "[23.0762652989248]\n",
      "[23.4312878008740]\n",
      "[23.7901085072900]\n",
      "[24.1527168248781]\n",
      "[24.5191004153711]\n",
      "[24.8892451666427]\n",
      "[25.2631351649825]\n",
      "[25.6407526686093]\n",
      "[26.0220780824990]\n",
      "[26.4070899346026]\n",
      "[26.7957648535318]\n",
      "[27.1880775477853]\n",
      "[27.5840007865921]\n",
      "[27.9835053824450]\n",
      "[28.3865601753961]\n",
      "[28.7931320191857]\n",
      "[29.2031857692746]\n",
      "[29.6166842728451]\n",
      "[30.0335883608386]\n",
      "[30.4538568420897]\n",
      "[30.8774464996198]\n",
      "[31.3043120891448]\n",
      "[31.7344063398528]\n",
      "[32.1676799575012]\n",
      "[32.6040816298816]\n",
      "[33.0435580346936]\n",
      "[33.4860538498691]\n",
      "[33.9315117663792]\n",
      "[34.3798725035564]\n",
      "[34.8310748269554]\n",
      "[35.2850555687743]\n",
      "[35.7417496508515]\n",
      "[36.2010901102477]\n",
      "[36.6630081274186]\n",
      "[37.1274330569767]\n",
      "[37.5942924610362]\n",
      "[38.0635121451277]\n",
      "[38.5350161966658]\n",
      "[39.0087270259437]\n",
      "[39.4845654096256]\n",
      "[39.9624505367008]\n",
      "[40.4423000568551]\n",
      "[40.9240301312145]\n",
      "[41.4075554854027]\n",
      "[41.8927894648554]\n",
      "[42.3796440923231]\n",
      "[42.8680301274912]\n",
      "[43.3578571286387]\n",
      "[43.8490335162540]\n",
      "[44.3414666385172]\n",
      "[44.8350628385566]\n"
     ]
    }
   ],
   "source": [
    "# Exercise 5\n",
    "#I want this code to accomplish euler's method function\n",
    "#The returned output is c\n",
    "#The inputs that are used as arguments are a total of 4\n",
    "\n",
    "val=[]\n",
    "f(x)=.2*x*(1-x/100)\n",
    "def iterate(ts,init,f,ss):\n",
    "    for i in srange(0,ts):\n",
    "        euler=[]\n",
    "        euler.append(init)\n",
    "        val.append(init)\n",
    "        init=init+ss*(f(init))\n",
    "        print(euler)\n",
    "iterate(101,10,f,.1)"
   ]
  },
  {
   "cell_type": "code",
   "execution_count": 11,
   "metadata": {
    "collapsed": false
   },
   "outputs": [
    {
     "name": "stdout",
     "output_type": "stream",
     "text": [
      "(0, [10])\n",
      "(1, [10.1800000000000])\n",
      "(2, [10.3628735200000])\n",
      "(3, [10.5486531608817])\n",
      "(4, [10.7373714073976])\n",
      "(5, [10.9290606065975])\n",
      "(6, [11.1237529455809])\n",
      "(7, [11.3214804285737])\n",
      "(8, [11.5222748533262])\n",
      "(9, [11.7261677868336])\n",
      "(10, [11.9331905403773])\n",
      "(11, [12.1433741438903])\n",
      "(12, [12.3567493196484])\n",
      "(13, [12.5733464552916])\n",
      "(14, [12.7931955761805])\n",
      "(15, [13.0163263170940])\n",
      "(16, [13.2427678932773])\n",
      "(17, [13.4725490708478])\n",
      "(18, [13.7056981365714])\n",
      "(19, [13.9422428670207])\n",
      "(20, [14.1822104971285])\n",
      "(21, [14.4256276881541])\n",
      "(22, [14.6725204950778])\n",
      "(23, [14.9229143334436])\n",
      "(24, [15.1768339456718])\n",
      "(25, [15.4343033668624])\n",
      "(26, [15.6953458901155])\n",
      "(27, [15.9599840313958])\n",
      "(28, [16.2282394939672])\n",
      "(29, [16.5001331324319])\n",
      "(30, [16.7756849164029])\n",
      "(31, [17.0549138938481])\n",
      "(32, [17.3378381541397])\n",
      "(33, [17.6244747908507])\n",
      "(34, [17.9148398643370])\n",
      "(35, [18.2089483641508])\n",
      "(36, [18.5068141713282])\n",
      "(37, [18.8084500206003])\n",
      "(38, [19.1138674625768])\n",
      "(39, [19.4230768259530])\n",
      "(40, [19.7360871797947])\n",
      "(41, [20.0529062959569])\n",
      "(42, [20.3735406116931])\n",
      "(43, [20.6979951925157])\n",
      "(44, [21.0262736953681])\n",
      "(45, [21.3583783321730])\n",
      "(46, [21.6943098338204])\n",
      "(47, [22.0340674146637])\n",
      "(48, [22.3776487375901])\n",
      "(49, [22.7250498797374])\n",
      "(50, [23.0762652989248])\n",
      "(51, [23.4312878008740])\n",
      "(52, [23.7901085072900])\n",
      "(53, [24.1527168248781])\n",
      "(54, [24.5191004153711])\n",
      "(55, [24.8892451666427])\n",
      "(56, [25.2631351649825])\n",
      "(57, [25.6407526686093])\n",
      "(58, [26.0220780824990])\n",
      "(59, [26.4070899346026])\n",
      "(60, [26.7957648535318])\n",
      "(61, [27.1880775477853])\n",
      "(62, [27.5840007865921])\n",
      "(63, [27.9835053824450])\n",
      "(64, [28.3865601753961])\n",
      "(65, [28.7931320191857])\n",
      "(66, [29.2031857692746])\n",
      "(67, [29.6166842728451])\n",
      "(68, [30.0335883608386])\n",
      "(69, [30.4538568420897])\n",
      "(70, [30.8774464996198])\n",
      "(71, [31.3043120891448])\n",
      "(72, [31.7344063398528])\n",
      "(73, [32.1676799575012])\n",
      "(74, [32.6040816298816])\n",
      "(75, [33.0435580346936])\n",
      "(76, [33.4860538498691])\n",
      "(77, [33.9315117663792])\n",
      "(78, [34.3798725035564])\n",
      "(79, [34.8310748269554])\n",
      "(80, [35.2850555687743])\n",
      "(81, [35.7417496508515])\n",
      "(82, [36.2010901102477])\n",
      "(83, [36.6630081274186])\n",
      "(84, [37.1274330569767])\n",
      "(85, [37.5942924610362])\n",
      "(86, [38.0635121451277])\n",
      "(87, [38.5350161966658])\n",
      "(88, [39.0087270259437])\n",
      "(89, [39.4845654096256])\n",
      "(90, [39.9624505367008])\n",
      "(91, [40.4423000568551])\n",
      "(92, [40.9240301312145])\n",
      "(93, [41.4075554854027])\n",
      "(94, [41.8927894648554])\n",
      "(95, [42.3796440923231])\n",
      "(96, [42.8680301274912])\n",
      "(97, [43.3578571286387])\n",
      "(98, [43.8490335162540])\n",
      "(99, [44.3414666385172])\n"
     ]
    }
   ],
   "source": [
    "# Exercise 6\n",
    "f(x)=.2*x*(1-x/100)\n",
    "val=[]\n",
    "set=[]\n",
    "def iterate(ts,init,f,ss):\n",
    "    for i in srange(0,ts):\n",
    "        euler=[]\n",
    "        euler.append(init)\n",
    "        init=init+ss*(f(init))\n",
    "        val.append(init)\n",
    "        set.append(i)\n",
    "        print(i,euler)\n",
    "iterate(101,10,f,.1)\n",
    "p=zip(val,set)"
   ]
  },
  {
   "cell_type": "code",
   "execution_count": 0,
   "metadata": {
    "collapsed": false
   },
   "outputs": [
   ],
   "source": [
   ]
  }
 ],
 "metadata": {
  "kernelspec": {
   "display_name": "SageMath (system-wide)",
   "language": "sagemath",
   "metadata": {
    "cocalc": {
     "description": "Open-source mathematical software system",
     "priority": -1,
     "url": "https://www.sagemath.org/"
    }
   },
   "name": "sagemath",
   "resource_dir": "/ext/jupyter/kernels/sagemath"
  },
  "language_info": {
   "codemirror_mode": {
    "name": "ipython",
    "version": 2
   },
   "file_extension": ".py",
   "mimetype": "text/x-python",
   "name": "python",
   "nbconvert_exporter": "python",
   "pygments_lexer": "ipython2",
   "version": "2.7.15"
  }
 },
 "nbformat": 4,
 "nbformat_minor": 4
}