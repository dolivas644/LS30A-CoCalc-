{
 "cells": [
  {
   "cell_type": "code",
   "execution_count": 1,
   "metadata": {
    "collapsed": false
   },
   "outputs": [
   ],
   "source": [
    "# Name:\n",
    "# I worked on this code with:\n",
    "\n",
    "# Please do all of your work for this week's lab in this worksheet. If\n",
    "# you wish to create other worksheets for scratch work, you can, but\n",
    "# this is the one that will be graded. You do not need to do anything\n",
    "# to turn in your lab. It will be collected by your TA at the beginning\n",
    "# of (or right before) next week’s lab.\n",
    "\n",
    "# Be sure to clearly label which question you are answering as you go and to\n",
    "# use enough comments that you and the grader can understand your code."
   ]
  },
  {
   "cell_type": "code",
   "execution_count": 2,
   "metadata": {
    "collapsed": false
   },
   "outputs": [
    {
     "name": "stdout",
     "output_type": "stream",
     "text": [
      "Jackpot\n"
     ]
    }
   ],
   "source": [
    "# Exercise 1\n",
    "money=1300000\n",
    "if money > 1000000:\n",
    "    print \"Jackpot\"\n",
    "    "
   ]
  },
  {
   "cell_type": "code",
   "execution_count": 3,
   "metadata": {
    "collapsed": false
   },
   "outputs": [
    {
     "name": "stdout",
     "output_type": "stream",
     "text": [
      "5\n"
     ]
    }
   ],
   "source": [
    "# Exercise 2\n",
    "n=4\n",
    "if n<5:\n",
    "    n=n+1\n",
    "    print n"
   ]
  },
  {
   "cell_type": "code",
   "execution_count": 4,
   "metadata": {
    "collapsed": false
   },
   "outputs": [
    {
     "name": "stdout",
     "output_type": "stream",
     "text": [
      "5\n"
     ]
    }
   ],
   "source": [
    "# Exervise 2\n",
    "n=4\n",
    "if n<5:\n",
    "    n = n+1\n",
    "    print n\n",
    "else:\n",
    "    n = n+2\n",
    "    print n\n",
    "    \n",
    "    "
   ]
  },
  {
   "cell_type": "code",
   "execution_count": 5,
   "metadata": {
    "collapsed": false
   },
   "outputs": [
    {
     "name": "stdout",
     "output_type": "stream",
     "text": [
      "8\n"
     ]
    }
   ],
   "source": [
    "n=6\n",
    "if n<5:\n",
    "    n = n+1\n",
    "    print n\n",
    "else:\n",
    "    n = n+2\n",
    "    print n"
   ]
  },
  {
   "cell_type": "code",
   "execution_count": 7,
   "metadata": {
    "collapsed": false
   },
   "outputs": [
    {
     "ename": "SyntaxError",
     "evalue": "invalid syntax (<ipython-input-7-857a2da55e2b>, line 3)",
     "output_type": "error",
     "traceback": [
      "\u001b[0;36m  File \u001b[0;32m\"<ipython-input-7-857a2da55e2b>\"\u001b[0;36m, line \u001b[0;32m3\u001b[0m\n\u001b[0;31m    if person=\"George Washington\"\u001b[0m\n\u001b[0m             ^\u001b[0m\n\u001b[0;31mSyntaxError\u001b[0m\u001b[0;31m:\u001b[0m invalid syntax\n"
     ]
    }
   ],
   "source": [
    "# Exercise 3\n",
    "person =\"georgia\"\n",
    "if person==\"George Washington\"\n",
    "    print \"First president\"\n",
    "else:\n",
    "    print \"Not first president\""
   ]
  },
  {
   "cell_type": "code",
   "execution_count": 21,
   "metadata": {
    "collapsed": false
   },
   "outputs": [
    {
     "name": "stdout",
     "output_type": "stream",
     "text": [
      "Its cold\n"
     ]
    }
   ],
   "source": [
    "# Exercise 4\n",
    "temp = 30\n",
    "if temp > 90:\n",
    "    print \"Its hot\"\n",
    "elif temp < 70:\n",
    "    print \"Its cold\"\n",
    "else:\n",
    "    \"Not bad otherwise\""
   ]
  },
  {
   "cell_type": "code",
   "execution_count": 24,
   "metadata": {
    "collapsed": false
   },
   "outputs": [
    {
     "name": "stdout",
     "output_type": "stream",
     "text": [
      "Its hot\n"
     ]
    }
   ],
   "source": [
    "# Exercise 5\n",
    "temp=90\n",
    "if temp > 80:\n",
    "    print \"Its hot\"\n",
    "elif temp < 60:\n",
    "    print \"Its cold\"\n",
    "else:\n",
    "    \"Not bad otherwise\""
   ]
  },
  {
   "cell_type": "code",
   "execution_count": 26,
   "metadata": {
    "collapsed": false
   },
   "outputs": [
    {
     "name": "stdout",
     "output_type": "stream",
     "text": [
      "long word\n",
      "not very long word\n"
     ]
    }
   ],
   "source": [
    "# Exercise 6\n",
    "words = [\"elephant\", \"mongoose\", \"emu\", \"crocodile\", \"chimp\"]\n",
    "for word in words:\n",
    "    if len(word)>8:\n",
    "        print \"long word\"\n",
    "if len(word)<=4:\n",
    "    print \"short word\"\n",
    "else:\n",
    "    print \"not very long word\"\n",
    "    "
   ]
  },
  {
   "cell_type": "code",
   "execution_count": 10,
   "metadata": {
    "collapsed": false
   },
   "outputs": [
    {
     "name": "stdout",
     "output_type": "stream",
     "text": [
      "1\n",
      "2\n",
      "3\n",
      "4\n",
      "5\n",
      "6\n",
      "7\n",
      "8\n",
      "9\n",
      "10\n"
     ]
    }
   ],
   "source": [
    "# Exercise 7\n",
    "n = 1 # assigns value of n to 1\n",
    "while n <= 10: # sets value of n to be less than or equal to 10\n",
    "    print n # orints n if it meets the condition\n",
    "    n = n+1 # inputs n value into function"
   ]
  },
  {
   "cell_type": "code",
   "execution_count": 11,
   "metadata": {
    "collapsed": false
   },
   "outputs": [
    {
     "name": "stdout",
     "output_type": "stream",
     "text": [
      "onew\n",
      "onew\n",
      "onew\n",
      "onew\n",
      "onew\n"
     ]
    }
   ],
   "source": [
    "# Exercise 8\n",
    "n=0\n",
    "while n<5:\n",
    "    print \"onew\"\n",
    "    n=n+1"
   ]
  },
  {
   "cell_type": "code",
   "execution_count": 29,
   "metadata": {
    "collapsed": false
   },
   "outputs": [
    {
     "name": "stdout",
     "output_type": "stream",
     "text": [
      "8\n",
      "8.30000000000000\n",
      "8.60000000000000\n",
      "8.90000000000000\n",
      "9.20000000000000\n",
      "9.50000000000000\n",
      "9.80000000000000\n"
     ]
    }
   ],
   "source": [
    "# Exercise 9\n",
    "n=8\n",
    "while n>6 and n<10:\n",
    "    print n\n",
    "    n=n+.3"
   ]
  },
  {
   "cell_type": "code",
   "execution_count": 31,
   "metadata": {
    "collapsed": false,
    "scrolled": true
   },
   "outputs": [
    {
     "name": "stdout",
     "output_type": "stream",
     "text": [
      "T\n",
      "C\n",
      "C\n",
      "G\n",
      "A\n",
      "T\n"
     ]
    }
   ],
   "source": [
    "# Exercise 10\n",
    "DNA=\"AGGCTA\"\n",
    "for comp in DNA:\n",
    "    if comp==\"A\":\n",
    "        print \"T\"\n",
    "    elif comp==\"T\":\n",
    "        print \"A\"\n",
    "    elif comp==\"G\":\n",
    "        print \"C\"\n",
    "    else:\n",
    "        print \"G\""
   ]
  },
  {
   "cell_type": "code",
   "execution_count": 32,
   "metadata": {
    "collapsed": false
   },
   "outputs": [
    {
     "name": "stdout",
     "output_type": "stream",
     "text": [
      "T\n",
      "C\n",
      "C\n",
      "G\n",
      "A\n",
      "T\n"
     ]
    }
   ],
   "source": [
    "# Exercise 11\n",
    "def f(dna):\n",
    "    for comp in DNA:\n",
    "        if comp==\"A\":\n",
    "            print \"T\"\n",
    "        elif comp==\"T\":\n",
    "            print \"A\"\n",
    "        elif comp==\"G\":\n",
    "            print \"C\"\n",
    "        else:\n",
    "            print \"G\"\n",
    "f(\"AGGCTA\")"
   ]
  },
  {
   "cell_type": "code",
   "execution_count": 4,
   "metadata": {
    "collapsed": false
   },
   "outputs": [
    {
     "name": "stdout",
     "output_type": "stream",
     "text": [
      "0.847376788553\n"
     ]
    }
   ],
   "source": [
    "# Exercise 12\n",
    "insulin_human = \"-----------------------------------------------------------------------------------------------------------------------------AGCC--CTCCAGGACAGGCTGCAT-CAGAAGAGGCCATCAAGCAGATCA------CTGTCCTTCTGCCATGGCCCTGTGGATGCGCCTCCTGCCCCTGCTGGCGCTGCTGGCCCTCTGGGGACCTGACCCAGCCGCAGCCTTTGTGAACCAACACCTGTGCGGCTCACACCTGGTGGAAGCTCTCTACCTAGTGTGCGGGGAACGAGGCTTCTTCTACACACCCAAGACCCGCCGGGAGGCAGAGGACCTGCAGGTGGGGCAGGTGGAGCTGGGCGGGGGCCCTGGTGCAGGCAGCCTGCAGCCCTTGGCCCTGGAGGGGTCCCTGCAGAAGCGTGGCATTGTGGAACAATGCTGTACCAGCATCTGCTCCCTCTACCAGCTGGAGAACTACTGCAACTAGACGCAGCCCGCAGGCAGCCCCCCACCCGCCGCCTCCTGCACCGAGAGAGATGGAATAAAGCCCTTGAACCAACAAAAAAAAAAAAAAAAAAAAAAAAAAAAAA\"\n",
    "\n",
    "insulin_chimp = \"-----------------------------------------------------------------------------------------------------------------------------AGCC--CTCCAGGACAGGCTGCAT-CAGAAGAGGCCATCAAGCAGATCA------CTGTCCTTCTGCCATGGCCCTGTGGATGCGCCTCCTGCCCCTGCTGGTGCTGCTGGCCCTCTGGGGACCTGACCCAGCCTCGGCCTTTGTGAACCAACACCTGTGCGGCTCCCACCTGGTGGAAGCTCTCTACCTAGTGTGCGGGGAACGAGGCTTCTTCTACACACCCAAGACCCGCCGGGAGGCAGAGGACCTGCAGGTGGGGCAGGTGGAGCTGGGCGGGGGCCCTGGTGCAGGCAGCCTGCAGCCCTTGGCCCTGGAGGGGTCCCTGCAGAAGCGTGGTATCGTGGAACAATGCTGTACCAGCATCTGCTCCCTCTACCAGCTGGAGAACTACTGCAACTAGATG------GAATAAAGCCCTTGAACCAGC-------------------------------------------------------------------------\"\n",
    "\n",
    "insulin_pig = \"-----------------------------------------------------------------------------------------------------------------------------AGCC--CTCTGGGACCAGCTGTGTTCCCAGGCCACCGGCAAGCAGGTC-------CTCACCCCCCGCCATGGCCCTGTGGACGCGCCTCCTGCCCCTGCTGGCCCTGCTGGCCCTCTGGGCGCCCGCCCCGGCCCAGGCCTTCGTGAACCAGCACCTGTGCGGCTCCCACCTGGTGGAGGCGCTGTACCTGGTGTGCGGGGAGCGCGGCTTCTTCTACACGCCCAAGGCCCGTCGGGAGGCGGAGAACCCTCAGGCAGGTGCCGTGGAGCTGGGCGGAGGCCT------GGGCGGCCTGCAGGCCCTGGCGCTGGAGGGGCCCCCGCAGAAGCGTGGCATCGTGGAGCAGTGCTGCACCAGCATCTGTTCCCTCTACCAGCTGGAGAACTACTGCAACTAGGCCGCCCCTGAGGGC-GCCTGCTGCTCCCCGCACCCCAAAACCCAATAAA-----------------------------------------------------\"\n",
    "\n",
    "insulin_mouse = \"GGGGACCCAGTAACCACCAGCCCTAAGTGATCCGCTACAATCAAAAACCATCAGCAAGCAGGAAGGTACTCTTCTCAGTGGGCCTGGCTCCCCAGCTAAGACCTCAGGGACTTGAGGTAGGATATAGCCTCCTCTCTTACGTGAAACTTTTGCTATCCTCAACCCAGCCTATCTTCCAGGTTATTGTTTCAACATGGCCCTGTGGATGCGCTTCCTGCCCCTGCTGGCCCTGCTCTTCCTCTGGGAGTCCCACCCCACCCAGGCTTTTGTCAAGCAGCACCTTTGTGGTTCCCACCTGGTGGAGGCTCTCTACCTGGTGTGTGGGGAGCGTGGCTTCTTCTACACACCCATGTCCCGCCGTGAAGTGGAGGACCCACAAGTGGCACAACTGGAGCTGGGTGGAGGCCCGGGAGCAGGTGACCTTCAGACCTTGGCACTGGAGGTGGCCCAGCAGAAGCGTGGCATTGTAGATCAGTGCTGCACCAGCATCTGCTCCCTCTACCAGCTGGAGAACTACTGCAACTAGACCCA-CCACTACCCAGCCTACCCCTCTGCAATGAATAAAACCTTTGAATGAGCACAAAAAA-----------------------------------------\"\n",
    "n=0\n",
    "for i in srange(0,len(insulin_human)):\n",
    "    if insulin_human[i]==insulin_chimp[i]:\n",
    "        n=n+1\n",
    "print float(n/len(insulin_human))"
   ]
  },
  {
   "cell_type": "code",
   "execution_count": 8,
   "metadata": {
    "collapsed": false
   },
   "outputs": [
   ],
   "source": [
    "# Exercise 13\n",
    "def compare (seq1, seq2):\n",
    "    correct = 0\n",
    "    smaller = 0\n",
    "    if len(seq1)< len(seq2):\n",
    "        smaller = len(seq1)\n",
    "    else :\n",
    "        smaller = len(seq2)\n",
    "\n",
    "    for i in srange(0,smaller):\n",
    "        if seq1[i] == seq2[i]:\n",
    "            correct +=1\n",
    "    fraction = correct/smaller\n",
    "    return fraction\n",
    "#your two subjects to compare being se1 and seq2 that can compare the 2 subjects and can be relativiely exchanged. "
   ]
  },
  {
   "cell_type": "code",
   "execution_count": 0,
   "metadata": {
    "collapsed": false
   },
   "outputs": [
   ],
   "source": [
   ]
  }
 ],
 "metadata": {
  "kernelspec": {
   "display_name": "SageMath (system-wide)",
   "language": "sagemath",
   "metadata": {
    "cocalc": {
     "description": "Open-source mathematical software system",
     "priority": -1,
     "url": "https://www.sagemath.org/"
    }
   },
   "name": "sagemath",
   "resource_dir": "/ext/jupyter/kernels/sagemath"
  },
  "language_info": {
   "codemirror_mode": {
    "name": "ipython",
    "version": 2
   },
   "file_extension": ".py",
   "mimetype": "text/x-python",
   "name": "python",
   "nbconvert_exporter": "python",
   "pygments_lexer": "ipython2",
   "version": "2.7.15"
  }
 },
 "nbformat": 4,
 "nbformat_minor": 4
}