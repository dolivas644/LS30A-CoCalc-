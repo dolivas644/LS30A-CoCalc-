{
 "cells": [
  {
   "cell_type": "code",
   "execution_count": 1,
   "metadata": {
    "collapsed": false
   },
   "outputs": [
   ],
   "source": [
    "# Name:\n",
    "# I worked on this code with:\n",
    "\n",
    "# Please do all of your work for this week's lab in this worksheet. If\n",
    "# you wish to create other worksheets for scratch work, you can, but\n",
    "# this is the one that will be graded. You do not need to do anything\n",
    "# to turn in your lab. It will be collected by your TA at the beginning\n",
    "# of (or right before) next week’s lab.\n",
    "\n",
    "# Be sure to clearly label which question you are answering as you go and to\n",
    "# use enough comments that you and the grader can understand your code."
   ]
  },
  {
   "cell_type": "code",
   "execution_count": 2,
   "metadata": {
    "collapsed": false
   },
   "outputs": [
    {
     "name": "stdout",
     "output_type": "stream",
     "text": [
      "25\n",
      "100\n",
      "9\n",
      "1\n"
     ]
    }
   ],
   "source": [
    "# Exercise 1\n",
    "for num in [3,18,5,9]:\n",
    "    x =(num-8)^2\n",
    "    print(x)"
   ]
  },
  {
   "cell_type": "code",
   "execution_count": 3,
   "metadata": {
    "collapsed": false
   },
   "outputs": [
    {
     "name": "stdout",
     "output_type": "stream",
     "text": [
      "26\n",
      "161\n"
     ]
    }
   ],
   "source": [
    "# Exercise 2\n",
    "def times3plus5(num):\n",
    "    result=3*num+5\n",
    "    return result\n",
    "print(times3plus5(7))\n",
    "print(times3plus5(52))"
   ]
  },
  {
   "cell_type": "code",
   "execution_count": 4,
   "metadata": {
    "collapsed": false
   },
   "outputs": [
    {
     "name": "stdout",
     "output_type": "stream",
     "text": [
      "1\n",
      "1\n"
     ]
    }
   ],
   "source": [
    "# Exercise 3\n",
    "def minus8sq(num):\n",
    "    result=(num-8)^2\n",
    "    return result\n",
    "print(minus8sq(7))\n",
    "print(minus8sq(9))\n"
   ]
  },
  {
   "cell_type": "code",
   "execution_count": 5,
   "metadata": {
    "collapsed": false
   },
   "outputs": [
    {
     "name": "stdout",
     "output_type": "stream",
     "text": [
      "[152, 513, 1216]\n"
     ]
    }
   ],
   "source": [
    "# Exercise 4\n",
    "def sqr(n):\n",
    "    result=(n^3)*19\n",
    "    return result\n",
    "x=[sqr(2),sqr(3),sqr(4)]\n",
    "print(x)\n"
   ]
  },
  {
   "cell_type": "code",
   "execution_count": 6,
   "metadata": {
    "collapsed": false
   },
   "outputs": [
    {
     "name": "stdout",
     "output_type": "stream",
     "text": [
      "[6, 14, 24]\n"
     ]
    }
   ],
   "source": [
    "# Exercise 5\n",
    "def qt(n):\n",
    "    result=(5*n)+(n^2)\n",
    "    return result\n",
    "x=[qt(1),qt(2),qt(3)]\n",
    "print(x)"
   ]
  },
  {
   "cell_type": "code",
   "execution_count": 7,
   "metadata": {
    "collapsed": false
   },
   "outputs": [
    {
     "name": "stdout",
     "output_type": "stream",
     "text": [
      "[39, 5239, 21153]\n"
     ]
    }
   ],
   "source": [
    "# Exercise 6\n",
    "def dog(n):    #defines dog with input of n\n",
    "    result=3*n+(n+5)^2   #displays our equation with input n\n",
    "    return result        #will give the result with n sub\n",
    "x=[dog(1),dog(66),dog(-152)]   # numbers that will sub for n\n",
    "print(x)  # display with n sub to give \n"
   ]
  },
  {
   "cell_type": "code",
   "execution_count": 8,
   "metadata": {
    "collapsed": false
   },
   "outputs": [
    {
     "name": "stdout",
     "output_type": "stream",
     "text": [
      "5.00000000000000\n",
      "6.32455532033676\n",
      "8.24621125123532\n",
      "10.0000000000000\n"
     ]
    }
   ],
   "source": [
    "# Exercise 7\n",
    "for val in [25.0,40.0,68.0,100.0]:\n",
    "    r=sqrt(val)\n",
    "    print(r)"
   ]
  },
  {
   "cell_type": "code",
   "execution_count": 9,
   "metadata": {
    "collapsed": false
   },
   "outputs": [
    {
     "name": "stdout",
     "output_type": "stream",
     "text": [
      "11\n",
      "17\n",
      "23\n",
      "26\n"
     ]
    }
   ],
   "source": [
    "# Exercise 8\n",
    "xtra=[2,4,6,7]\n",
    "for i in xtra:\n",
    "    times3plus5(i)\n",
    "    print(times3plus5(i))"
   ]
  },
  {
   "cell_type": "code",
   "execution_count": 10,
   "metadata": {
    "collapsed": false
   },
   "outputs": [
    {
     "name": "stdout",
     "output_type": "stream",
     "text": [
      "25\n",
      "100\n",
      "9\n",
      "1\n"
     ]
    }
   ],
   "source": [
    "# Exercise 9\n",
    "num=[3,18,5,9]\n",
    "for i in num:\n",
    "    minus8sq(i)\n",
    "    print(minus8sq(i))"
   ]
  },
  {
   "cell_type": "code",
   "execution_count": 11,
   "metadata": {
    "collapsed": false
   },
   "outputs": [
    {
     "name": "stdout",
     "output_type": "stream",
     "text": [
      "[55, 489, 73, 325]\n"
     ]
    }
   ],
   "source": [
    "# Exercise 10\n",
    "wes=[2,16,3,12]\n",
    "a=[]\n",
    "for i in wes:\n",
    "    dog(i)\n",
    "    a.append(dog(i))\n",
    "print(a)"
   ]
  },
  {
   "cell_type": "code",
   "execution_count": 12,
   "metadata": {
    "collapsed": false,
    "scrolled": true
   },
   "outputs": [
    {
     "data": {
      "image/png": "[encoded data removed]",
      "text/plain": [
       "Graphics object consisting of 1 graphics primitive"
      ]
     },
     "execution_count": 12,
     "metadata": {
     },
     "output_type": "execute_result"
    }
   ],
   "source": [
    "# Exercise 11\n",
    "geegee= zip(wes,a)\n",
    "list_plot(geegee,axes_labels=[\"wes\",\"a\"])"
   ]
  },
  {
   "cell_type": "code",
   "execution_count": 2,
   "metadata": {
    "collapsed": false
   },
   "outputs": [
    {
     "data": {
      "application/vnd.jupyter.widget-view+json": {
       "model_id": "d814ea118f7c4fffb744766204e12ac7",
       "version_major": 2,
       "version_minor": 0
      },
      "text/plain": [
       "SW50ZXJhY3RpdmUgZnVuY3Rpb24gPGZ1bmN0aW9uIHNsb3BlTGluZSBhdCAweDdmZjM0Y2FjMTBjOD4gd2l0aCAxIHdpZGdldAogIG06IEludFNsaWRlcih2YWx1ZT0wLCBkZXNjcmlwdGlvbj3igKY=\n"
      ]
     },
     "execution_count": 2,
     "metadata": {
     },
     "output_type": "execute_result"
    }
   ],
   "source": [
    "# Exercise 12\n",
    "@interact\n",
    "def slopeLine(m=(-2,3)):\n",
    "    p=plot(m*x,(x,-5,5), ymin=-50, ymax=50)\n",
    "    show(p)"
   ]
  },
  {
   "cell_type": "code",
   "execution_count": 14,
   "metadata": {
    "collapsed": false
   },
   "outputs": [
    {
     "ename": "SyntaxError",
     "evalue": "invalid syntax (<ipython-input-14-d19e23334d6a>, line 2)",
     "output_type": "error",
     "traceback": [
      "\u001b[0;36m  File \u001b[0;32m\"<ipython-input-14-d19e23334d6a>\"\u001b[0;36m, line \u001b[0;32m2\u001b[0m\n\u001b[0;31m    If you try to plot the line without using show, it will not be preseneted because show is to plot the line.\u001b[0m\n\u001b[0m         ^\u001b[0m\n\u001b[0;31mSyntaxError\u001b[0m\u001b[0;31m:\u001b[0m invalid syntax\n"
     ]
    }
   ],
   "source": [
    "#Exercise 13\n",
    "#If you try to plot the line without using show, it will not be preseneted because show is to plot the line."
   ]
  },
  {
   "cell_type": "code",
   "execution_count": 5,
   "metadata": {
    "collapsed": false,
    "scrolled": true
   },
   "outputs": [
    {
     "data": {
      "application/vnd.jupyter.widget-view+json": {
       "model_id": "38255edcd6ac4c3980ad95d40781fcf0",
       "version_major": 2,
       "version_minor": 0
      },
      "text/plain": [
       "SW50ZXJhY3RpdmUgZnVuY3Rpb24gPGZ1bmN0aW9uIGdyYXBoIGF0IDB4N2ZmMzQ4ODMwOTM4PiB3aXRoIDEgd2lkZ2V0CiAgazogSW50U2xpZGVyKHZhbHVlPTUsIGRlc2NyaXB0aW9uPXUnayfigKY=\n"
      ]
     },
     "execution_count": 5,
     "metadata": {
     },
     "output_type": "execute_result"
    }
   ],
   "source": [
    "# Exercise 14\n",
    "@interact\n",
    "def graph(k=(5,5)):\n",
    "    m=1\n",
    "    g=plot(m*x+k,(x,-5,5), ymin=-50, ymax=50)\n",
    "    show(g)"
   ]
  },
  {
   "cell_type": "code",
   "execution_count": 7,
   "metadata": {
    "collapsed": false
   },
   "outputs": [
    {
     "data": {
      "application/vnd.jupyter.widget-view+json": {
       "model_id": "c569ecd2810448dea94825f9998fdead",
       "version_major": 2,
       "version_minor": 0
      },
      "text/plain": [
       "SW50ZXJhY3RpdmUgZnVuY3Rpb24gPGZ1bmN0aW9uIGdyYXBoMiBhdCAweDdmZjM0ODgzMGU2MD4gd2l0aCAxIHdpZGdldAogIG06IEludFNsaWRlcih2YWx1ZT0tMSwgZGVzY3JpcHRpb249dSfigKY=\n"
      ]
     },
     "execution_count": 7,
     "metadata": {
     },
     "output_type": "execute_result"
    }
   ],
   "source": [
    "# Exercise 15\n",
    "@interact\n",
    "def graph2(m=(-10,10,3)):  # Gives function name and slider range\n",
    "    p=plot(m*x^3,(x,-10,10), ymin=-50, ymax=50) # Plots m*x^3 with the value of m\n",
    "    show(p) # Displays plot"
   ]
  },
  {
   "cell_type": "code",
   "execution_count": 8,
   "metadata": {
    "collapsed": false
   },
   "outputs": [
    {
     "data": {
      "application/vnd.jupyter.widget-view+json": {
       "model_id": "dbef0c220a4b440ea52ee31ffe62b309",
       "version_major": 2,
       "version_minor": 0
      },
      "text/plain": [
       "SW50ZXJhY3RpdmUgZnVuY3Rpb24gPGZ1bmN0aW9uIHNsb3BlTGluZSBhdCAweDdmZjM0ODgzMGFhMD4gd2l0aCAxIHdpZGdldAogIG06IEZsb2F0U2xpZGVyKHZhbHVlPTAuMCwgZGVzY3JpcHTigKY=\n"
      ]
     },
     "execution_count": 8,
     "metadata": {
     },
     "output_type": "execute_result"
    }
   ],
   "source": [
    "# Exercise 16\n",
    "@interact\n",
    "def slopeLine(m=(-10,10,0.1)):\n",
    "    p=plot(m*x^3,(x,-5,5), ymin=-50, ymax=50)\n",
    "    show(p)"
   ]
  },
  {
   "cell_type": "code",
   "execution_count": 0,
   "metadata": {
    "collapsed": false
   },
   "outputs": [
   ],
   "source": [
   ]
  }
 ],
 "metadata": {
  "kernelspec": {
   "display_name": "SageMath (system-wide)",
   "language": "sagemath",
   "metadata": {
    "cocalc": {
     "description": "Open-source mathematical software system",
     "priority": -1,
     "url": "https://www.sagemath.org/"
    }
   },
   "name": "sagemath",
   "resource_dir": "/ext/jupyter/kernels/sagemath"
  },
  "language_info": {
   "codemirror_mode": {
    "name": "ipython",
    "version": 2
   },
   "file_extension": ".py",
   "mimetype": "text/x-python",
   "name": "python",
   "nbconvert_exporter": "python",
   "pygments_lexer": "ipython2",
   "version": "2.7.15"
  }
 },
 "nbformat": 4,
 "nbformat_minor": 4
}